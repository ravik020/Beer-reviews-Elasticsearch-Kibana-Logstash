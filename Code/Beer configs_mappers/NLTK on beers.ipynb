{
 "cells": [
  {
   "cell_type": "code",
   "execution_count": 1,
   "metadata": {
    "collapsed": true
   },
   "outputs": [],
   "source": [
    "import pandas as pd\n",
    "import numpy as np\n",
    "# import nltk\n",
    "# from nltk.corpus import stopwords\n",
    "# import re\n",
    "# from nltk.stem.porter import PorterStemmer\n",
    "# import time\n",
    "# from nltk import FreqDist"
   ]
  },
  {
   "cell_type": "code",
   "execution_count": 16,
   "metadata": {
    "collapsed": false
   },
   "outputs": [],
   "source": [
    "# from datetime import datetime\n",
    "# from dateutil.tz import tzlocal\n",
    "# local_timezone = datetime.now(tzlocal())"
   ]
  },
  {
   "cell_type": "code",
   "execution_count": 52,
   "metadata": {
    "collapsed": false
   },
   "outputs": [],
   "source": [
    "beers = pd.read_csv(\"D:/MSBA/Fall/DBMS/Trends/beer_data.csv\")"
   ]
  },
  {
   "cell_type": "code",
   "execution_count": 28,
   "metadata": {
    "collapsed": false
   },
   "outputs": [],
   "source": [
    "# beers['review_time'] = beers['review_time'].apply(lambda x: datetime.utcfromtimestamp(x).strftime(\"%Y-%m-%d\"))"
   ]
  },
  {
   "cell_type": "code",
   "execution_count": 32,
   "metadata": {
    "collapsed": false
   },
   "outputs": [],
   "source": [
    "# !pip install -U textblob\n",
    "from textblob import TextBlob"
   ]
  },
  {
   "cell_type": "code",
   "execution_count": 42,
   "metadata": {
    "collapsed": true
   },
   "outputs": [],
   "source": [
    "def polarity_calculation(review):\n",
    "    review_text = TextBlob(review)\n",
    "    return review_text.sentiment.polarity"
   ]
  },
  {
   "cell_type": "code",
   "execution_count": 43,
   "metadata": {
    "collapsed": true
   },
   "outputs": [],
   "source": [
    "def subjectivity_calculation(review):\n",
    "    review_text = TextBlob(review)\n",
    "    return review_text.sentiment.subjectivity"
   ]
  },
  {
   "cell_type": "code",
   "execution_count": 44,
   "metadata": {
    "collapsed": true
   },
   "outputs": [],
   "source": [
    "def review_nouns(review):\n",
    "    review_text = TextBlob(review)\n",
    "    return review_text.noun_phrases"
   ]
  },
  {
   "cell_type": "code",
   "execution_count": null,
   "metadata": {
    "collapsed": false
   },
   "outputs": [],
   "source": [
    "beers['review_polarity'] = beers['review_text'].apply(lambda x: polarity_calculation(str(x)))\n",
    "beers['review_subjectivity'] = beers['review_text'].apply(lambda x: subjectivity_calculation(str(x)))\n",
    "beers['review_nouns'] = beers['review_text'].apply(lambda x: review_nouns(str(x)))"
   ]
  },
  {
   "cell_type": "code",
   "execution_count": 47,
   "metadata": {
    "collapsed": false
   },
   "outputs": [
    {
     "data": {
      "text/html": [
       "<div>\n",
       "<table border=\"1\" class=\"dataframe\">\n",
       "  <thead>\n",
       "    <tr style=\"text-align: right;\">\n",
       "      <th></th>\n",
       "      <th>review_time</th>\n",
       "      <th>beer_ABV</th>\n",
       "      <th>beer_beerId</th>\n",
       "      <th>beer_brewerId</th>\n",
       "      <th>beer_name</th>\n",
       "      <th>beer_style</th>\n",
       "      <th>review_appearance</th>\n",
       "      <th>review_aroma</th>\n",
       "      <th>review_overall</th>\n",
       "      <th>review_palate</th>\n",
       "      <th>review_profileName</th>\n",
       "      <th>review_taste</th>\n",
       "      <th>review_text</th>\n",
       "      <th>review_polarity</th>\n",
       "      <th>review_subjectivity</th>\n",
       "      <th>review_nouns</th>\n",
       "    </tr>\n",
       "  </thead>\n",
       "  <tbody>\n",
       "    <tr>\n",
       "      <th>0</th>\n",
       "      <td>2009-02-16</td>\n",
       "      <td>5.0</td>\n",
       "      <td>47986</td>\n",
       "      <td>10325</td>\n",
       "      <td>Sausa Weizen</td>\n",
       "      <td>Hefeweizen</td>\n",
       "      <td>2.5</td>\n",
       "      <td>2.0</td>\n",
       "      <td>1.5</td>\n",
       "      <td>1.5</td>\n",
       "      <td>stcules</td>\n",
       "      <td>1.5</td>\n",
       "      <td>A lot of foam. But a lot. In the smell some ba...</td>\n",
       "      <td>-0.090909</td>\n",
       "      <td>0.406250</td>\n",
       "      <td>[good start, lively carbonation, lactic sourness]</td>\n",
       "    </tr>\n",
       "    <tr>\n",
       "      <th>1</th>\n",
       "      <td>2009-03-01</td>\n",
       "      <td>6.2</td>\n",
       "      <td>48213</td>\n",
       "      <td>10325</td>\n",
       "      <td>Red Moon</td>\n",
       "      <td>English Strong Ale</td>\n",
       "      <td>3.0</td>\n",
       "      <td>2.5</td>\n",
       "      <td>3.0</td>\n",
       "      <td>3.0</td>\n",
       "      <td>stcules</td>\n",
       "      <td>3.0</td>\n",
       "      <td>Dark red color, light beige foam, average. In ...</td>\n",
       "      <td>0.147436</td>\n",
       "      <td>0.487179</td>\n",
       "      <td>[dark, red color, light beige foam, light frui...</td>\n",
       "    </tr>\n",
       "    <tr>\n",
       "      <th>2</th>\n",
       "      <td>2009-03-01</td>\n",
       "      <td>6.5</td>\n",
       "      <td>48215</td>\n",
       "      <td>10325</td>\n",
       "      <td>Black Horse Black Beer</td>\n",
       "      <td>Foreign / Export Stout</td>\n",
       "      <td>3.0</td>\n",
       "      <td>2.5</td>\n",
       "      <td>3.0</td>\n",
       "      <td>3.0</td>\n",
       "      <td>stcules</td>\n",
       "      <td>3.0</td>\n",
       "      <td>Almost totally black. Beige foam, quite compac...</td>\n",
       "      <td>0.338333</td>\n",
       "      <td>0.693333</td>\n",
       "      <td>[beige, light oo, average body, somr roast]</td>\n",
       "    </tr>\n",
       "    <tr>\n",
       "      <th>3</th>\n",
       "      <td>2009-02-15</td>\n",
       "      <td>5.0</td>\n",
       "      <td>47969</td>\n",
       "      <td>10325</td>\n",
       "      <td>Sausa Pils</td>\n",
       "      <td>German Pilsener</td>\n",
       "      <td>3.5</td>\n",
       "      <td>3.0</td>\n",
       "      <td>3.0</td>\n",
       "      <td>2.5</td>\n",
       "      <td>stcules</td>\n",
       "      <td>3.0</td>\n",
       "      <td>Golden yellow color. White, compact foam, quit...</td>\n",
       "      <td>0.362745</td>\n",
       "      <td>0.522549</td>\n",
       "      <td>[golden yellow color, compact foam, good appea...</td>\n",
       "    </tr>\n",
       "    <tr>\n",
       "      <th>4</th>\n",
       "      <td>2010-12-30</td>\n",
       "      <td>7.7</td>\n",
       "      <td>64883</td>\n",
       "      <td>1075</td>\n",
       "      <td>Cauldron DIPA</td>\n",
       "      <td>American Double / Imperial IPA</td>\n",
       "      <td>4.0</td>\n",
       "      <td>4.5</td>\n",
       "      <td>4.0</td>\n",
       "      <td>4.0</td>\n",
       "      <td>johnmichaelsen</td>\n",
       "      <td>4.5</td>\n",
       "      <td>According to the website, the style for the Ca...</td>\n",
       "      <td>0.167143</td>\n",
       "      <td>0.538905</td>\n",
       "      <td>[according, caldera cauldron, current release,...</td>\n",
       "    </tr>\n",
       "  </tbody>\n",
       "</table>\n",
       "</div>"
      ],
      "text/plain": [
       "  review_time  beer_ABV  beer_beerId  beer_brewerId               beer_name  \\\n",
       "0  2009-02-16       5.0        47986          10325            Sausa Weizen   \n",
       "1  2009-03-01       6.2        48213          10325                Red Moon   \n",
       "2  2009-03-01       6.5        48215          10325  Black Horse Black Beer   \n",
       "3  2009-02-15       5.0        47969          10325              Sausa Pils   \n",
       "4  2010-12-30       7.7        64883           1075           Cauldron DIPA   \n",
       "\n",
       "                       beer_style  review_appearance  review_aroma  \\\n",
       "0                      Hefeweizen                2.5           2.0   \n",
       "1              English Strong Ale                3.0           2.5   \n",
       "2          Foreign / Export Stout                3.0           2.5   \n",
       "3                 German Pilsener                3.5           3.0   \n",
       "4  American Double / Imperial IPA                4.0           4.5   \n",
       "\n",
       "   review_overall  review_palate review_profileName  review_taste  \\\n",
       "0             1.5            1.5            stcules           1.5   \n",
       "1             3.0            3.0            stcules           3.0   \n",
       "2             3.0            3.0            stcules           3.0   \n",
       "3             3.0            2.5            stcules           3.0   \n",
       "4             4.0            4.0     johnmichaelsen           4.5   \n",
       "\n",
       "                                         review_text  review_polarity  \\\n",
       "0  A lot of foam. But a lot. In the smell some ba...        -0.090909   \n",
       "1  Dark red color, light beige foam, average. In ...         0.147436   \n",
       "2  Almost totally black. Beige foam, quite compac...         0.338333   \n",
       "3  Golden yellow color. White, compact foam, quit...         0.362745   \n",
       "4  According to the website, the style for the Ca...         0.167143   \n",
       "\n",
       "   review_subjectivity                                       review_nouns  \n",
       "0             0.406250  [good start, lively carbonation, lactic sourness]  \n",
       "1             0.487179  [dark, red color, light beige foam, light frui...  \n",
       "2             0.693333        [beige, light oo, average body, somr roast]  \n",
       "3             0.522549  [golden yellow color, compact foam, good appea...  \n",
       "4             0.538905  [according, caldera cauldron, current release,...  "
      ]
     },
     "execution_count": 47,
     "metadata": {},
     "output_type": "execute_result"
    }
   ],
   "source": [
    "beers.head(5)"
   ]
  }
 ],
 "metadata": {
  "kernelspec": {
   "display_name": "Python 2",
   "language": "python",
   "name": "python2"
  },
  "language_info": {
   "codemirror_mode": {
    "name": "ipython",
    "version": 2
   },
   "file_extension": ".py",
   "mimetype": "text/x-python",
   "name": "python",
   "nbconvert_exporter": "python",
   "pygments_lexer": "ipython2",
   "version": "2.7.13"
  }
 },
 "nbformat": 4,
 "nbformat_minor": 2
}
